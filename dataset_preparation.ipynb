{
 "nbformat": 4,
 "nbformat_minor": 0,
 "metadata": {
  "colab": {
   "provenance": []
  },
  "kernelspec": {
   "name": "python3",
   "display_name": "Python 3"
  },
  "language_info": {
   "name": "python"
  }
 },
 "cells": [
  {
   "cell_type": "code",
   "execution_count": null,
   "metadata": {
    "id": "IvLBdo44JtIz"
   },
   "outputs": [],
   "source": [
    "pip install -U datasets"
   ]
  },
  {
   "metadata": {},
   "cell_type": "markdown",
   "source": "### Dataset Preparation for RAGBench COVIDQA"
  },
  {
   "cell_type": "code",
   "source": [
    "# You need to run this on colab\n",
    "from datasets import load_dataset\n",
    "import json\n",
    "\n",
    "# Load the dataset\n",
    "dataset = load_dataset(\"rungalileo/ragbench\", \"covidqa\", split=\"train\")\n",
    "k=\"specify your dataset limit\"\n",
    "dataset = dataset.select(range(k))\n",
    "\n",
    "# Extract required fields\n",
    "output = []\n",
    "for item in dataset:\n",
    "    entry = {\n",
    "        \"question\": item.get(\"question\"),\n",
    "        \"answer\": item.get(\"answer\"),\n",
    "        \"documents\": item.get(\"documents\")\n",
    "    }\n",
    "    output.append(entry)\n",
    "\n",
    "# Save to JSON file\n",
    "output_file = \"input.json\"\n",
    "with open(output_file, \"w\", encoding=\"utf-8\") as f:\n",
    "    json.dump(output, f, indent=2, ensure_ascii=False)\n",
    "\n",
    "print(f\"✅ Extracted {len(output)} entries to {output_file}\")"
   ],
   "metadata": {
    "id": "LaeDnWArJ9Mn"
   },
   "execution_count": null,
   "outputs": []
  }
 ]
}
